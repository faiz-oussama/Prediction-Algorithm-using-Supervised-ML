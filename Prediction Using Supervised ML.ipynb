{
 "cells": [
  {
   "cell_type": "markdown",
   "id": "c262e34e-7c8b-4a51-b318-fd9daf371653",
   "metadata": {
    "tags": []
   },
   "source": [
    "## we start by importing the essential librairies "
   ]
  },
  {
   "cell_type": "code",
   "execution_count": 1,
   "id": "1bcbaba3-693b-42ec-b891-d3ffb67501cd",
   "metadata": {},
   "outputs": [],
   "source": [
    "import numpy as np\n",
    "import pandas as pd\n",
    "import matplotlib.pyplot as plt\n",
    "%matplotlib inline\n",
    "from sklearn.model_selection import train_test_split\n",
    "from sklearn.linear_model import LinearRegression\n",
    "from sklearn.metrics import mean_squared_error, r2_score\n"
   ]
  },
  {
   "cell_type": "markdown",
   "id": "18dd15a6-84e8-4385-8299-54c766374852",
   "metadata": {
    "tags": []
   },
   "source": [
    "## importing the dataset"
   ]
  },
  {
   "cell_type": "code",
   "execution_count": 2,
   "id": "64bdb208-d580-4f48-86ba-ea5eae2878e4",
   "metadata": {},
   "outputs": [],
   "source": [
    "url = \"http://bit.ly/w-data\"\n",
    "data = pd.read_csv(url)"
   ]
  },
  {
   "cell_type": "code",
   "execution_count": 3,
   "id": "ed2a26c6-ab98-4e18-a15a-8926c532dde9",
   "metadata": {},
   "outputs": [
    {
     "data": {
      "text/html": [
       "<div>\n",
       "<style scoped>\n",
       "    .dataframe tbody tr th:only-of-type {\n",
       "        vertical-align: middle;\n",
       "    }\n",
       "\n",
       "    .dataframe tbody tr th {\n",
       "        vertical-align: top;\n",
       "    }\n",
       "\n",
       "    .dataframe thead th {\n",
       "        text-align: right;\n",
       "    }\n",
       "</style>\n",
       "<table border=\"1\" class=\"dataframe\">\n",
       "  <thead>\n",
       "    <tr style=\"text-align: right;\">\n",
       "      <th></th>\n",
       "      <th>Hours</th>\n",
       "      <th>Scores</th>\n",
       "    </tr>\n",
       "  </thead>\n",
       "  <tbody>\n",
       "    <tr>\n",
       "      <th>0</th>\n",
       "      <td>2.5</td>\n",
       "      <td>21</td>\n",
       "    </tr>\n",
       "    <tr>\n",
       "      <th>1</th>\n",
       "      <td>5.1</td>\n",
       "      <td>47</td>\n",
       "    </tr>\n",
       "    <tr>\n",
       "      <th>2</th>\n",
       "      <td>3.2</td>\n",
       "      <td>27</td>\n",
       "    </tr>\n",
       "    <tr>\n",
       "      <th>3</th>\n",
       "      <td>8.5</td>\n",
       "      <td>75</td>\n",
       "    </tr>\n",
       "    <tr>\n",
       "      <th>4</th>\n",
       "      <td>3.5</td>\n",
       "      <td>30</td>\n",
       "    </tr>\n",
       "  </tbody>\n",
       "</table>\n",
       "</div>"
      ],
      "text/plain": [
       "   Hours  Scores\n",
       "0    2.5      21\n",
       "1    5.1      47\n",
       "2    3.2      27\n",
       "3    8.5      75\n",
       "4    3.5      30"
      ]
     },
     "execution_count": 3,
     "metadata": {},
     "output_type": "execute_result"
    }
   ],
   "source": [
    "data.head()"
   ]
  },
  {
   "cell_type": "markdown",
   "id": "d7b9c984-1eb3-413a-9b83-fb4b9451c589",
   "metadata": {},
   "source": [
    "## plotting the dataset"
   ]
  },
  {
   "cell_type": "code",
   "execution_count": 4,
   "id": "41dc9dcb-f370-4ee0-80f7-e8485f5f9a39",
   "metadata": {},
   "outputs": [
    {
     "data": {
      "text/plain": [
       "Text(0, 0.5, 'Score obtained')"
      ]
     },
     "execution_count": 4,
     "metadata": {},
     "output_type": "execute_result"
    },
    {
     "data": {
      "image/png": "[encoded data removed]",
      "text/plain": [
       "<Figure size 432x288 with 1 Axes>"
      ]
     },
     "metadata": {
      "needs_background": "light"
     },
     "output_type": "display_data"
    }
   ],
   "source": [
    "plt.scatter(data['Hours'],data['Scores'])\n",
    "plt.xlabel('Hours of studying')\n",
    "plt.ylabel('Score obtained')"
   ]
  },
  {
   "cell_type": "code",
   "execution_count": 14,
   "id": "af1e171d-1251-44e6-bd00-1918a65b2978",
   "metadata": {},
   "outputs": [
    {
     "data": {
      "text/plain": [
       "25"
      ]
     },
     "execution_count": 14,
     "metadata": {},
     "output_type": "execute_result"
    }
   ],
   "source": [
    "#we want to predict the student's scores based on hours of study so we have to set our variables: \n",
    "\n",
    "X = data.iloc[:, :-1].values \n",
    "y = data.iloc[:, 1].values "
   ]
  },
  {
   "cell_type": "markdown",
   "id": "dd46e0cf-2764-4019-b07e-2f4c42b8da64",
   "metadata": {
    "tags": []
   },
   "source": [
    "## setting test and train variables"
   ]
  },
  {
   "cell_type": "code",
   "execution_count": 6,
   "id": "1e2d13a6-5650-4afc-8bde-3906f6bdcddb",
   "metadata": {},
   "outputs": [],
   "source": [
    "X_train , X_test , y_train , y_test = train_test_split(X , y ,test_size = 0.2)"
   ]
  },
  {
   "cell_type": "markdown",
   "id": "a9f78654-8137-4b43-8ca1-4521c2347dcc",
   "metadata": {},
   "source": [
    "## train our linear regression model"
   ]
  },
  {
   "cell_type": "code",
   "execution_count": 20,
   "id": "d6b80596-7b76-4a05-b6a2-cae77b382c41",
   "metadata": {},
   "outputs": [
    {
     "data": {
      "text/plain": [
       "LinearRegression()"
      ]
     },
     "execution_count": 20,
     "metadata": {},
     "output_type": "execute_result"
    }
   ],
   "source": [
    "regression_alg = LinearRegression()\n",
    "regression_alg.fit(X_train, y_train)\n",
    "\n",
    "#my model is ready by now"
   ]
  },
  {
   "cell_type": "markdown",
   "id": "d8b66ae9-5992-44ff-bfb4-8143f68c5979",
   "metadata": {
    "tags": []
   },
   "source": [
    "### now I am going to try my model on the training values to see how well the model is performing and also calculates the R2_score value :"
   ]
  },
  {
   "cell_type": "code",
   "execution_count": 19,
   "id": "ab7d5ea2-7650-495e-bfc8-e937f84745cf",
   "metadata": {},
   "outputs": [
    {
     "name": "stdout",
     "output_type": "stream",
     "text": [
      "R2_score = 0.95\n"
     ]
    }
   ],
   "source": [
    "train_predictions = regression_alg.predict(X_train)\n",
    "print(f\"R2_score = {round(r2_score(y_train, train_predictions),2)}\")"
   ]
  },
  {
   "cell_type": "markdown",
   "id": "876b6e4c-2489-4c20-b70d-1d015faa9ad9",
   "metadata": {},
   "source": [
    "## testing the model using test values"
   ]
  },
  {
   "cell_type": "code",
   "execution_count": 22,
   "id": "10a99032-b079-402a-9e14-9cd330b6ba60",
   "metadata": {},
   "outputs": [
    {
     "name": "stdout",
     "output_type": "stream",
     "text": [
      "R2_score = 0.95\n"
     ]
    }
   ],
   "source": [
    "test_predictions = regression_alg.predict(X_test)\n",
    "print(f\"R2_score = {round(r2_score(y_test, test_predictions),2)}\")"
   ]
  },
  {
   "cell_type": "code",
   "execution_count": 23,
   "id": "d4403c75-64ec-493b-8d81-9006d1f857b2",
   "metadata": {},
   "outputs": [],
   "source": [
    "#we can notice the R2_score is pretty high which explains a high accuracy of our model"
   ]
  },
  {
   "cell_type": "code",
   "execution_count": 27,
   "id": "91e98335-f03b-4ad4-86c6-4038eed41151",
   "metadata": {},
   "outputs": [
    {
     "data": {
      "image/png": "[encoded data removed]",
      "text/plain": [
       "<Figure size 432x288 with 1 Axes>"
      ]
     },
     "metadata": {
      "needs_background": "light"
     },
     "output_type": "display_data"
    }
   ],
   "source": [
    "#now let's compare our test and predicted values by plotting them and see how close they are to the line :\n",
    "\n",
    "plt.scatter(y_test,test_predictions)\n",
    "plt.title(\"Actual Vs Predicted Values\")\n",
    "plt.xlabel(\"test values\")\n",
    "plt.ylabel(\"predicted values\")\n",
    "plt.plot([20.0, 160.0], [20.0, 160.0], 'red', lw=1)\n",
    "plt.show()"
   ]
  },
  {
   "cell_type": "markdown",
   "id": "fd06b750-83f3-4e07-b9de-1dd28e481fc4",
   "metadata": {},
   "source": [
    "## testing model using a user given value : "
   ]
  },
  {
   "cell_type": "code",
   "execution_count": 29,
   "id": "acce80c5-4cf4-4686-a9e0-fb1e4476a128",
   "metadata": {},
   "outputs": [
    {
     "data": {
      "text/plain": [
       "array([92.74688052])"
      ]
     },
     "execution_count": 29,
     "metadata": {},
     "output_type": "execute_result"
    }
   ],
   "source": [
    "#What will be predicted score if the sudent studies for 9.25 hours/day ?\n",
    "\n",
    "hours = 9.25\n",
    "regression_alg.predict([[hours]])"
   ]
  },
  {
   "cell_type": "code",
   "execution_count": null,
   "id": "2a02155d-aca5-4d59-ab81-31caebdf51ed",
   "metadata": {},
   "outputs": [],
   "source": []
  }
 ],
 "metadata": {
  "kernelspec": {
   "display_name": "anaconda-2022.05-py39",
   "language": "python",
   "name": "conda-env-anaconda-2022.05-py39-py"
  },
  "language_info": {
   "codemirror_mode": {
    "name": "ipython",
    "version": 3
   },
   "file_extension": ".py",
   "mimetype": "text/x-python",
   "name": "python",
   "nbconvert_exporter": "python",
   "pygments_lexer": "ipython3",
   "version": "3.9.12"
  },
  "toc-autonumbering": false,
  "toc-showmarkdowntxt": true,
  "toc-showtags": false
 },
 "nbformat": 4,
 "nbformat_minor": 5
}
